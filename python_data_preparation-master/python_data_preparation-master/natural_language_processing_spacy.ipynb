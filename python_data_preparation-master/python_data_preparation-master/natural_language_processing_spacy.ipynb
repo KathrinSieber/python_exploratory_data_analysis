{
 "cells": [
  {
   "cell_type": "markdown",
   "id": "67c9d8d9",
   "metadata": {},
   "source": [
    "# Natural Language Processing with spacy\n",
    "\n",
    "This notebook will walk through basic spaCy operations for NLP, including tokenization, POS tagging, Named Entity Recognition, dependency parsing, and more."
   ]
  },
  {
   "cell_type": "markdown",
   "id": "5e6ff897",
   "metadata": {},
   "source": [
    "## Libraries and settings"
   ]
  },
  {
   "cell_type": "code",
   "execution_count": null,
   "id": "f855c908",
   "metadata": {},
   "outputs": [],
   "source": [
    "# Libraries\n",
    "import os\n",
    "import spacy\n",
    "import pandas as pd\n",
    "from spacy import displacy\n",
    "from spacy.language import Language\n",
    "\n",
    "# Download spaCy's pre-trained language model\n",
    "def install_spacy_model(model_name):\n",
    "    try:\n",
    "        spacy.load(model_name)\n",
    "        print(f\"Model '{model_name}' is already installed.\")\n",
    "    except OSError:\n",
    "        print(f\"Model '{model_name}' not found. Installing...\")\n",
    "        os.system(f\"python -m spacy download {model_name}\")\n",
    "\n",
    "# Check and install spaCy's pre-trained language model if not available\n",
    "install_spacy_model(\"en_core_web_sm\")\n",
    "\n",
    "# Ignore warnings\n",
    "import warnings\n",
    "warnings.filterwarnings(\"ignore\")\n",
    "\n",
    "# Get current working directory\n",
    "print(os.getcwd())"
   ]
  },
  {
   "cell_type": "markdown",
   "id": "5c58c76a",
   "metadata": {},
   "source": [
    "## Loading the spaCy Model\n",
    "We'll load the English language model using the `spacy.load()` function."
   ]
  },
  {
   "cell_type": "code",
   "execution_count": 2,
   "id": "b45a15cc",
   "metadata": {},
   "outputs": [],
   "source": [
    "# Load the English language model\n",
    "nlp = spacy.load(\"en_core_web_sm\")"
   ]
  },
  {
   "cell_type": "markdown",
   "id": "a73eca13",
   "metadata": {},
   "source": [
    "## Basic Text Processing\n",
    "Let's process some text and extract individual tokens."
   ]
  },
  {
   "cell_type": "code",
   "execution_count": null,
   "id": "2039db83",
   "metadata": {},
   "outputs": [],
   "source": [
    "import pandas as pd\n",
    "import spacy\n",
    "\n",
    "# Load a spaCy model\n",
    "nlp = spacy.load(\"en_core_web_sm\")\n",
    "\n",
    "# Sample Data with apartment description\n",
    "data = {\n",
    "    'description': [\n",
    "        \"Luxurious 3-bedroom apartment with mountain view and high-end finishes in the city of Zürich, Switzerland.\"\n",
    "    ]\n",
    "}\n",
    "df = pd.DataFrame(data)\n",
    "\n",
    "# Process each description in the DataFrame\n",
    "for description in df['description']:\n",
    "    doc = nlp(description)\n",
    "    print(f\"Processing description: {description}\")\n",
    "    # Display tokens\n",
    "    for token in doc:\n",
    "        print(token.text)\n",
    "    print(\"\\n\")"
   ]
  },
  {
   "cell_type": "markdown",
   "id": "0c04078e",
   "metadata": {},
   "source": [
    "## Part-of-Speech (POS) Tagging\n",
    "Now, we can look at the POS tags for each word."
   ]
  },
  {
   "cell_type": "code",
   "execution_count": null,
   "id": "c97d93c2",
   "metadata": {},
   "outputs": [],
   "source": [
    "# Display tokens with their POS tags\n",
    "for token in doc:\n",
    "    print(f'{token.text:10} {token.pos_}')"
   ]
  },
  {
   "cell_type": "markdown",
   "id": "5ce2692f",
   "metadata": {},
   "source": [
    "## Named Entity Recognition (NER)\n",
    "Next, we will use spaCy to identify entities in a text, such as names, dates, organizations, etc."
   ]
  },
  {
   "cell_type": "code",
   "execution_count": null,
   "id": "d580ff07",
   "metadata": {},
   "outputs": [],
   "source": [
    "# Named entity recognition\n",
    "for ent in doc.ents:\n",
    "    print(f'{ent.text} {ent.label_}')"
   ]
  },
  {
   "cell_type": "markdown",
   "id": "1246cbd2",
   "metadata": {},
   "source": [
    "## Dependency Parsing\n",
    "We'll also explore dependency parsing, which analyzes the grammatical relationships between words."
   ]
  },
  {
   "cell_type": "code",
   "execution_count": null,
   "id": "d1005500",
   "metadata": {},
   "outputs": [],
   "source": [
    "# Display the syntactic dependency structure\n",
    "for token in doc:\n",
    "    print(f'{token.text:10} {token.dep_:10} {token.head.text:10}')"
   ]
  },
  {
   "cell_type": "markdown",
   "id": "f7d615f9",
   "metadata": {},
   "source": [
    "## Visualization of entities and dependencies\n",
    "We can use spaCy's `displacy` visualizer to display the entities and dependencies in a visually intuitive format."
   ]
  },
  {
   "cell_type": "code",
   "execution_count": null,
   "id": "5cb2f0f8",
   "metadata": {},
   "outputs": [],
   "source": [
    "# Visualize named entities\n",
    "displacy.render(doc, style=\"ent\")\n",
    "\n",
    "# Visualize dependency parsing\n",
    "displacy.render(doc, style=\"dep\", jupyter=True)"
   ]
  },
  {
   "cell_type": "markdown",
   "id": "ae5c3305",
   "metadata": {},
   "source": [
    "### Jupyter notebook --footer info-- (please always provide this at the end of each notebook)"
   ]
  },
  {
   "cell_type": "code",
   "execution_count": null,
   "id": "b3ed4b86",
   "metadata": {},
   "outputs": [],
   "source": [
    "import os\n",
    "import platform\n",
    "import socket\n",
    "from platform import python_version\n",
    "from datetime import datetime\n",
    "\n",
    "print('-----------------------------------')\n",
    "print(os.name.upper())\n",
    "print(platform.system(), '|', platform.release())\n",
    "print('Datetime:', datetime.now().strftime(\"%Y-%m-%d %H:%M:%S\"))\n",
    "print('Python Version:', python_version())\n",
    "print('-----------------------------------')"
   ]
  }
 ],
 "metadata": {
  "kernelspec": {
   "display_name": "dsenv",
   "language": "python",
   "name": "python3"
  },
  "language_info": {
   "codemirror_mode": {
    "name": "ipython",
    "version": 3
   },
   "file_extension": ".py",
   "mimetype": "text/x-python",
   "name": "python",
   "nbconvert_exporter": "python",
   "pygments_lexer": "ipython3",
   "version": "3.12.4"
  }
 },
 "nbformat": 4,
 "nbformat_minor": 5
}
