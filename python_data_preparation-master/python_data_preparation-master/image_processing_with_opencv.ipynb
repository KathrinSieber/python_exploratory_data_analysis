{
 "cells": [
  {
   "cell_type": "markdown",
   "id": "4c16e77c",
   "metadata": {},
   "source": [
    "# Image Processing with opencv\n",
    "\n",
    "See also: https://www.geeksforgeeks.org/image-processing-in-python\n",
    "\n",
    "This notebook demonstrates basic image processing techniques using Python libraries such as OpenCV and Pillow. \n",
    "We will cover the following operations:\n",
    "\n",
    "- Reading and displaying an image\n",
    "- Converting an image to grayscale\n",
    "- Resizing an image\n",
    "- Rotating an image\n",
    "- Blurring an image\n",
    "- Edge detection using Canny Edge Detection\n"
   ]
  },
  {
   "cell_type": "markdown",
   "id": "a6c4ad90",
   "metadata": {},
   "source": [
    "## Library and Settings"
   ]
  },
  {
   "cell_type": "code",
   "execution_count": null,
   "id": "a7a1ee6d",
   "metadata": {},
   "outputs": [],
   "source": [
    "# Import necessary libraries\n",
    "import os\n",
    "import cv2\n",
    "import numpy as np\n",
    "import matplotlib.pyplot as plt\n",
    "from PIL import Image, ImageFilter\n",
    "\n",
    "# Ignore warnings\n",
    "import warnings\n",
    "warnings.filterwarnings(\"ignore\")\n",
    "\n",
    "# Get current working directory\n",
    "print(os.getcwd())"
   ]
  },
  {
   "cell_type": "code",
   "execution_count": null,
   "id": "cc8bccbd",
   "metadata": {},
   "outputs": [],
   "source": [
    "# Read image from disk.\n",
    "img = cv2.imread('./Data/image_lake.jpg')   \n",
    "\n",
    "# Convert BGR image to RGB\n",
    "img_rgb = cv2.cvtColor(img, cv2.COLOR_BGR2RGB)\n",
    "\n",
    "# Display the uploaded image\n",
    "plt.imshow(img_rgb)\n",
    "plt.title(\"Original Image\")\n",
    "plt.axis('off')\n",
    "plt.show()"
   ]
  },
  {
   "cell_type": "markdown",
   "id": "7c2cedcd",
   "metadata": {},
   "source": [
    "## Convert the image to grayscale"
   ]
  },
  {
   "cell_type": "code",
   "execution_count": null,
   "id": "a880697b",
   "metadata": {},
   "outputs": [],
   "source": [
    "# Convert the image to grayscale\n",
    "gray_image = cv2.cvtColor(img_rgb, cv2.COLOR_BGR2GRAY)\n",
    "\n",
    "# Display the grayscale image\n",
    "plt.imshow(gray_image, cmap='gray')\n",
    "plt.title(\"Grayscale Image\")\n",
    "plt.axis('off')\n",
    "plt.show()\n"
   ]
  },
  {
   "cell_type": "markdown",
   "id": "6c3853ae",
   "metadata": {},
   "source": [
    "## Change image resolution"
   ]
  },
  {
   "cell_type": "code",
   "execution_count": null,
   "id": "1bc0c56f",
   "metadata": {},
   "outputs": [],
   "source": [
    "# Change image resolution to 100x100 pixels\n",
    "resized_image = cv2.resize(img_rgb, (80, 50))\n",
    "\n",
    "# Display the resized image\n",
    "plt.imshow(resized_image)\n",
    "plt.title(\"Resized Image\")\n",
    "plt.axis('off')\n",
    "plt.show()\n"
   ]
  },
  {
   "cell_type": "markdown",
   "id": "c945cfb6",
   "metadata": {},
   "source": [
    "## Rotate the image"
   ]
  },
  {
   "cell_type": "code",
   "execution_count": null,
   "id": "974cf00f",
   "metadata": {},
   "outputs": [],
   "source": [
    "# Image rotation parameter\n",
    "center = (img_rgb.shape[1] // 2, img_rgb.shape[0] // 2)\n",
    "angle = 30\n",
    "scale = 1\n",
    "\n",
    "# getRotationMatrix2D creates a matrix needed for transformation.\n",
    "rotation_matrix = cv2.getRotationMatrix2D(center, angle, scale)\n",
    "\n",
    "# We want matrix for rotation w.r.t center to 30 degree without scaling.\n",
    "rotated_image = cv2.warpAffine(img_rgb, rotation_matrix, (img.shape[1], img.shape[0]))\n",
    "\n",
    "# Display the rotated image\n",
    "plt.imshow(rotated_image)\n",
    "plt.title(\"Rotated Image\")\n",
    "plt.axis('off')\n",
    "plt.show()"
   ]
  },
  {
   "cell_type": "markdown",
   "id": "86db1344",
   "metadata": {},
   "source": [
    "## Apply blur"
   ]
  },
  {
   "cell_type": "code",
   "execution_count": null,
   "id": "bb28f39c",
   "metadata": {},
   "outputs": [],
   "source": [
    "# Apply Gaussian blur to the image\n",
    "blurred_image = cv2.GaussianBlur(img_rgb, (121,121), 0)\n",
    "\n",
    "# Display the blurred image\n",
    "plt.imshow(blurred_image)\n",
    "plt.title(\"Blurred Image\")\n",
    "plt.axis('off')\n",
    "plt.show()"
   ]
  },
  {
   "cell_type": "markdown",
   "id": "a6c5ac76",
   "metadata": {},
   "source": [
    "## Apply edge detection"
   ]
  },
  {
   "cell_type": "code",
   "execution_count": null,
   "id": "13c3c390",
   "metadata": {},
   "outputs": [],
   "source": [
    "# Apply Canny edge detection\n",
    "edges = cv2.Canny(img_rgb, 100, 200)\n",
    "\n",
    "# Display the edges\n",
    "plt.imshow(edges, cmap='gray')\n",
    "plt.title(\"Edge Detection (Canny)\")\n",
    "plt.axis('off')\n",
    "plt.show()"
   ]
  },
  {
   "cell_type": "markdown",
   "id": "daa05bbf",
   "metadata": {},
   "source": [
    "### Jupyter notebook --footer info-- (please always provide this at the end of each notebook)"
   ]
  },
  {
   "cell_type": "code",
   "execution_count": null,
   "id": "d615b26b",
   "metadata": {},
   "outputs": [],
   "source": [
    "import os\n",
    "import platform\n",
    "import socket\n",
    "from platform import python_version\n",
    "from datetime import datetime\n",
    "\n",
    "print('-----------------------------------')\n",
    "print(os.name.upper())\n",
    "print(platform.system(), '|', platform.release())\n",
    "print('Datetime:', datetime.now().strftime(\"%Y-%m-%d %H:%M:%S\"))\n",
    "print('Python Version:', python_version())\n",
    "print('-----------------------------------')"
   ]
  }
 ],
 "metadata": {
  "kernelspec": {
   "display_name": "dsenv",
   "language": "python",
   "name": "python3"
  },
  "language_info": {
   "codemirror_mode": {
    "name": "ipython",
    "version": 3
   },
   "file_extension": ".py",
   "mimetype": "text/x-python",
   "name": "python",
   "nbconvert_exporter": "python",
   "pygments_lexer": "ipython3",
   "version": "3.12.4"
  }
 },
 "nbformat": 4,
 "nbformat_minor": 5
}
